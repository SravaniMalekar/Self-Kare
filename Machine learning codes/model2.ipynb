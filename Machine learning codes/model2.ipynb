{
 "cells": [
  {
   "cell_type": "code",
   "execution_count": null,
   "id": "76cdcbd9-b42c-4b9b-bb6e-6d8df208e221",
   "metadata": {},
   "outputs": [],
   "source": [
    "import pandas as pd"
   ]
  },
  {
   "cell_type": "code",
   "execution_count": null,
   "id": "98ee8a9b-749e-4dbc-a8e9-7242eeb9f0b5",
   "metadata": {},
   "outputs": [],
   "source": [
    "df = pd.read_csv(\"/home/tanisha/Desktop/pp.csv\")"
   ]
  },
  {
   "cell_type": "code",
   "execution_count": null,
   "id": "808b83f9-8dd2-4347-8b8e-5ce89383952f",
   "metadata": {},
   "outputs": [],
   "source": [
    "#Creating a new coloumn label for prediction \n",
    "for i in range(len(df)):\n",
    "    if df[\"Severity_None\"][i] == 1:\n",
    "        df[\"new_column\"][i] = 0\n",
    "    if df[\"Severity_Mild\"][i] == 1:\n",
    "        df[\"new_column\"][i] = 1\n",
    "    if df[\"Severity_Moderate\"][i] == 1:\n",
    "        df[\"new_column\"][i] = 2\n",
    "    if df[\"Severity_Severe\"][i] == 1:\n",
    "        df[\"new_column\"][i] = 3\n",
    "df.to_csv(\"sample.csv\", index=False)"
   ]
  },
  {
   "cell_type": "code",
   "execution_count": null,
   "id": "1c8b19be-cdfc-4da4-8181-d970d476666c",
   "metadata": {},
   "outputs": [],
   "source": [
    "import pandas as pd\n",
    "from sklearn.model_selection import train_test_split"
   ]
  },
  {
   "cell_type": "code",
   "execution_count": null,
   "id": "627f6872-914d-413d-ae2b-4a5097fc3283",
   "metadata": {},
   "outputs": [],
   "source": [
    "df = pd.read_csv('../codes/project/sample.csv')\n",
    "df['new_column'] = df['new_column'].astype(int)\n",
    "X = df.iloc[:3000, :11].values\n",
    "y = df.iloc[:3000,-1].values"
   ]
  },
  {
   "cell_type": "code",
   "execution_count": null,
   "id": "f3ff5065-2d3d-4aae-a8f4-e11cd0b26832",
   "metadata": {},
   "outputs": [],
   "source": [
    "from sklearn.model_selection import RandomizedSearchCV\n",
    "import numpy as np\n",
    "n_estimators = [100]\n",
    "max_features = ['auto', 'sqrt']\n",
    "max_depth = [int(x) for x in np.linspace(10, 110, num = 11)]\n",
    "max_depth.append(None)\n",
    "min_samples_split = [2]\n",
    "min_samples_leaf = [1]\n",
    "bootstrap = [True, False]\n",
    "random_grid = {'n_estimators': n_estimators,\n",
    "               'max_features': max_features,\n",
    "               'max_depth': max_depth,\n",
    "               'min_samples_split': min_samples_split,\n",
    "               'min_samples_leaf': min_samples_leaf,\n",
    "               'bootstrap': bootstrap}\n",
    "print(n_estimators)"
   ]
  },
  {
   "cell_type": "code",
   "execution_count": null,
   "id": "8a33f1f2-4685-4c0e-999b-e08bb6a281a6",
   "metadata": {},
   "outputs": [],
   "source": [
    "from sklearn.ensemble import RandomForestClassifier\n",
    "model = RandomForestClassifier()\n",
    "model_new = RandomizedSearchCV(estimator = model, param_distributions = random_grid, n_iter = 10, cv = 3, verbose=2, random_state=40, n_jobs = -1)\n",
    "model_new.fit(X_train,y_train)\n",
    "from sklearn import metrics\n",
    "print(\"Accuracy:\",metrics.accuracy_score(y_test, y_pred))"
   ]
  },
  {
   "cell_type": "code",
   "execution_count": null,
   "id": "ac61f720-c36f-44d1-806f-81e4fa604f95",
   "metadata": {},
   "outputs": [],
   "source": [
    "from sklearn.model_selection import GridSearchCV\n",
    "param_grid = {\n",
    "    'bootstrap': [True],\n",
    "    'max_depth': [80, 90, 100, 110],\n",
    "    'max_features': [2, 3],\n",
    "    'min_samples_leaf': [3, 4, 5],\n",
    "    'min_samples_split': [8, 10, 12],\n",
    "    'n_estimators': [100, 200, 300, 1000]\n",
    "}\n",
    "from sklearn.ensemble import RandomForestClassifier\n",
    "rf = RandomForestClassifier()\n",
    "grid_search = GridSearchCV(estimator = rf, param_grid = param_grid, \n",
    "                          cv = 3, n_jobs = -1, verbose = 2)\n",
    "grid_search.fit(X_train,y_train)"
   ]
  }
 ],
 "metadata": {
  "kernelspec": {
   "display_name": "Python 3",
   "language": "python",
   "name": "python3"
  },
  "language_info": {
   "codemirror_mode": {
    "name": "ipython",
    "version": 3
   },
   "file_extension": ".py",
   "mimetype": "text/x-python",
   "name": "python",
   "nbconvert_exporter": "python",
   "pygments_lexer": "ipython3",
   "version": "3.6.9"
  }
 },
 "nbformat": 4,
 "nbformat_minor": 5
}